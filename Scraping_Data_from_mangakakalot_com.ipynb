{
  "nbformat": 4,
  "nbformat_minor": 0,
  "metadata": {
    "colab": {
      "provenance": [],
      "authorship_tag": "ABX9TyM7XPHPbrLeGIqPuyEFFvgF",
      "include_colab_link": true
    },
    "kernelspec": {
      "name": "python3",
      "display_name": "Python 3"
    },
    "language_info": {
      "name": "python"
    }
  },
  "cells": [
    {
      "cell_type": "markdown",
      "metadata": {
        "id": "view-in-github",
        "colab_type": "text"
      },
      "source": [
        "<a href=\"https://colab.research.google.com/github/sdr999/MangaSensei/blob/main/Scraping_Data_from_mangakakalot_com.ipynb\" target=\"_parent\"><img src=\"https://colab.research.google.com/assets/colab-badge.svg\" alt=\"Open In Colab\"/></a>"
      ]
    },
    {
      "cell_type": "markdown",
      "source": [
        "# **Scraping Data from mangakakalot.com and generating DataSet**"
      ],
      "metadata": {
        "id": "Rvb8x-7gPkAv"
      }
    },
    {
      "cell_type": "code",
      "source": [
        "import requests\n",
        "from bs4 import BeautifulSoup\n",
        "import pandas as pd\n",
        "\n",
        "manga_list = []\n",
        "def scrape_manga_data():\n",
        "    for i in range(1,10):\n",
        "      url = \"https://mangakakalot.com/manga_list?type=latest&category=all&state=all&page=\"+str(i)\n",
        "      headers = {\n",
        "          \"User-Agent\": \"Mozilla/5.0 (Windows NT 10.0; Win64; x64) AppleWebKit/537.36 (KHTML, like Gecko) Chrome/58.0.3029.110 Safari/537.3\"\n",
        "      }\n",
        "      response = requests.get(url, headers=headers)\n",
        "      soup = BeautifulSoup(response.content, \"html.parser\")\n",
        "\n",
        "      results = soup.find_all(\"div\", class_=\"list-truyen-item-wrap\")\n",
        "\n",
        "      for result in results:\n",
        "          title_tag = result.find(\"h3\")\n",
        "          description_tag = result.find(\"p\")\n",
        "          link_tag = title_tag.find(\"a\").get(\"href\")\n",
        "          if title_tag:\n",
        "              title = title_tag.text.strip()\n",
        "              description = description_tag.text.strip()\n",
        "\n",
        "              manga = {\n",
        "                  \"title\": title,\n",
        "                  \"description\": description,\n",
        "                  \"link\":link_tag\n",
        "              }\n",
        "              manga_list.append(manga)\n",
        "\n",
        "    return manga_list\n",
        "\n",
        "manga_data = scrape_manga_data()\n",
        "df = pd.DataFrame(manga_data)\n",
        "\n",
        "# Save the dataset to a CSV file\n",
        "df.to_csv(\"manga_dataset.csv\", index=False)\n"
      ],
      "metadata": {
        "id": "Oq4mWeZVWFtt"
      },
      "execution_count": 35,
      "outputs": []
    },
    {
      "cell_type": "markdown",
      "source": [
        "# **Scraping Data from mangakakalot.com and generating DataSet with genres**"
      ],
      "metadata": {
        "id": "W1CdRg7oQUgm"
      }
    },
    {
      "cell_type": "code",
      "source": [
        "import requests\n",
        "from bs4 import BeautifulSoup\n",
        "import pandas as pd\n",
        "\n",
        "def scrape_manga_genres(url):\n",
        "    headers = {\n",
        "        \"User-Agent\": \"Mozilla/5.0 (Windows NT 10.0; Win64; x64) AppleWebKit/537.36 (KHTML, like Gecko) Chrome/58.0.3029.110 Safari/537.3\"\n",
        "    }\n",
        "    response = requests.get(url, headers=headers)\n",
        "    soup = BeautifulSoup(response.content, \"html.parser\")\n",
        "\n",
        "    genre_tags = soup.find_all(\"td\", class_=\"table-value\")\n",
        "    genres = [genre.text.strip() for genre in genre_tags]\n",
        "\n",
        "    return genres\n",
        "\n",
        "# Read the dataset from CSV file\n",
        "df = pd.read_csv(\"manga_dataset.csv\")\n",
        "\n",
        "# Scrape genres for each manga link\n",
        "manga_genres = []\n",
        "for link in df[\"link\"]:\n",
        "    genres = scrape_manga_genres(link)\n",
        "    manga_genres.append(genres)\n",
        "\n",
        "# Add the manga genres to the dataset\n",
        "df[\"genres\"] = manga_genres\n",
        "\n",
        "# Save the updated dataset to a new CSV file\n",
        "df.to_csv(\"manga_dataset_with_genres.csv\", index=False)\n"
      ],
      "metadata": {
        "id": "gXXNUnrRGINo"
      },
      "execution_count": 36,
      "outputs": []
    }
  ]
}