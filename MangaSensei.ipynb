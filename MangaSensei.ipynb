{
  "nbformat": 4,
  "nbformat_minor": 0,
  "metadata": {
    "colab": {
      "provenance": [],
      "authorship_tag": "ABX9TyMYxxSkbJnZ5uG79ZMs9Mna",
      "include_colab_link": true
    },
    "kernelspec": {
      "name": "python3",
      "display_name": "Python 3"
    },
    "language_info": {
      "name": "python"
    }
  },
  "cells": [
    {
      "cell_type": "markdown",
      "metadata": {
        "id": "view-in-github",
        "colab_type": "text"
      },
      "source": [
        "<a href=\"https://colab.research.google.com/github/sdr999/MangaSensei/blob/main/MangaSensei.ipynb\" target=\"_parent\"><img src=\"https://colab.research.google.com/assets/colab-badge.svg\" alt=\"Open In Colab\"/></a>"
      ]
    },
    {
      "cell_type": "markdown",
      "source": [
        "# **Loading Dataset**"
      ],
      "metadata": {
        "id": "bFTpbtSbRXWH"
      }
    },
    {
      "cell_type": "code",
      "source": [
        "import pandas as pd\n",
        "from wordcloud import WordCloud\n",
        "from sklearn.feature_extraction.text import TfidfVectorizer\n",
        "from sklearn.metrics.pairwise import cosine_similarity\n",
        "# Load the dataset\n",
        "df = pd.read_csv(\"manga_dataset_with_genres.csv\")\n"
      ],
      "metadata": {
        "id": "nlI3jCakJpAq"
      },
      "execution_count": null,
      "outputs": []
    },
    {
      "cell_type": "markdown",
      "source": [
        "# **Checking if any null values**"
      ],
      "metadata": {
        "id": "92xC8bEmQlWu"
      }
    },
    {
      "cell_type": "code",
      "source": [
        "df.isnull().sum()"
      ],
      "metadata": {
        "colab": {
          "base_uri": "https://localhost:8080/"
        },
        "id": "s9lANBBQKgln",
        "outputId": "47f98736-d152-4371-d5c0-4658709501de"
      },
      "execution_count": null,
      "outputs": [
        {
          "output_type": "execute_result",
          "data": {
            "text/plain": [
              "title          0\n",
              "description    0\n",
              "link           0\n",
              "genres         0\n",
              "dtype: int64"
            ]
          },
          "metadata": {},
          "execution_count": 38
        }
      ]
    },
    {
      "cell_type": "markdown",
      "source": [
        "# **Creating tags to identify similarity**"
      ],
      "metadata": {
        "id": "eLHZhWR8QtMk"
      }
    },
    {
      "cell_type": "code",
      "source": [
        "df[\"tags\"]=df['description']+df['genres']"
      ],
      "metadata": {
        "id": "HhOB9rcZMcEp"
      },
      "execution_count": null,
      "outputs": []
    },
    {
      "cell_type": "code",
      "source": [
        "new=df.drop(columns=['description','genres','link'])"
      ],
      "metadata": {
        "id": "BfWcFoWSMyt-"
      },
      "execution_count": null,
      "outputs": []
    },
    {
      "cell_type": "code",
      "source": [
        "new.head()"
      ],
      "metadata": {
        "colab": {
          "base_uri": "https://localhost:8080/",
          "height": 206
        },
        "id": "w7a5yB6uNKHZ",
        "outputId": "e1753671-8218-4572-8f19-bfdf192222b5"
      },
      "execution_count": null,
      "outputs": [
        {
          "output_type": "execute_result",
          "data": {
            "text/plain": [
              "                                   title  \\\n",
              "0           I Want To See You Embarassed   \n",
              "1                    Lazy Dungeon Master   \n",
              "2                          Bind, Connect   \n",
              "3  Story of a Small Senior In My Company   \n",
              "4                                  Sissy   \n",
              "\n",
              "                                                tags  \n",
              "0  Akito Shirasawa, a high school boy whose fathe...  \n",
              "1  \"Come on, kill all those bandits for me alread...  \n",
              "2  The manga centers on Kanoko and her friend Tsu...  \n",
              "3  -\"My senpai from work... is tiny and cute.\"\\nS...  \n",
              "4  .Paranoid scum attack x gentle and weak. Li Ch...  "
            ],
            "text/html": [
              "\n",
              "  <div id=\"df-9f1fb39a-1b0b-4845-b38a-0a927193b6f7\">\n",
              "    <div class=\"colab-df-container\">\n",
              "      <div>\n",
              "<style scoped>\n",
              "    .dataframe tbody tr th:only-of-type {\n",
              "        vertical-align: middle;\n",
              "    }\n",
              "\n",
              "    .dataframe tbody tr th {\n",
              "        vertical-align: top;\n",
              "    }\n",
              "\n",
              "    .dataframe thead th {\n",
              "        text-align: right;\n",
              "    }\n",
              "</style>\n",
              "<table border=\"1\" class=\"dataframe\">\n",
              "  <thead>\n",
              "    <tr style=\"text-align: right;\">\n",
              "      <th></th>\n",
              "      <th>title</th>\n",
              "      <th>tags</th>\n",
              "    </tr>\n",
              "  </thead>\n",
              "  <tbody>\n",
              "    <tr>\n",
              "      <th>0</th>\n",
              "      <td>I Want To See You Embarassed</td>\n",
              "      <td>Akito Shirasawa, a high school boy whose fathe...</td>\n",
              "    </tr>\n",
              "    <tr>\n",
              "      <th>1</th>\n",
              "      <td>Lazy Dungeon Master</td>\n",
              "      <td>\"Come on, kill all those bandits for me alread...</td>\n",
              "    </tr>\n",
              "    <tr>\n",
              "      <th>2</th>\n",
              "      <td>Bind, Connect</td>\n",
              "      <td>The manga centers on Kanoko and her friend Tsu...</td>\n",
              "    </tr>\n",
              "    <tr>\n",
              "      <th>3</th>\n",
              "      <td>Story of a Small Senior In My Company</td>\n",
              "      <td>-\"My senpai from work... is tiny and cute.\"\\nS...</td>\n",
              "    </tr>\n",
              "    <tr>\n",
              "      <th>4</th>\n",
              "      <td>Sissy</td>\n",
              "      <td>.Paranoid scum attack x gentle and weak. Li Ch...</td>\n",
              "    </tr>\n",
              "  </tbody>\n",
              "</table>\n",
              "</div>\n",
              "      <button class=\"colab-df-convert\" onclick=\"convertToInteractive('df-9f1fb39a-1b0b-4845-b38a-0a927193b6f7')\"\n",
              "              title=\"Convert this dataframe to an interactive table.\"\n",
              "              style=\"display:none;\">\n",
              "        \n",
              "  <svg xmlns=\"http://www.w3.org/2000/svg\" height=\"24px\"viewBox=\"0 0 24 24\"\n",
              "       width=\"24px\">\n",
              "    <path d=\"M0 0h24v24H0V0z\" fill=\"none\"/>\n",
              "    <path d=\"M18.56 5.44l.94 2.06.94-2.06 2.06-.94-2.06-.94-.94-2.06-.94 2.06-2.06.94zm-11 1L8.5 8.5l.94-2.06 2.06-.94-2.06-.94L8.5 2.5l-.94 2.06-2.06.94zm10 10l.94 2.06.94-2.06 2.06-.94-2.06-.94-.94-2.06-.94 2.06-2.06.94z\"/><path d=\"M17.41 7.96l-1.37-1.37c-.4-.4-.92-.59-1.43-.59-.52 0-1.04.2-1.43.59L10.3 9.45l-7.72 7.72c-.78.78-.78 2.05 0 2.83L4 21.41c.39.39.9.59 1.41.59.51 0 1.02-.2 1.41-.59l7.78-7.78 2.81-2.81c.8-.78.8-2.07 0-2.86zM5.41 20L4 18.59l7.72-7.72 1.47 1.35L5.41 20z\"/>\n",
              "  </svg>\n",
              "      </button>\n",
              "      \n",
              "  <style>\n",
              "    .colab-df-container {\n",
              "      display:flex;\n",
              "      flex-wrap:wrap;\n",
              "      gap: 12px;\n",
              "    }\n",
              "\n",
              "    .colab-df-convert {\n",
              "      background-color: #E8F0FE;\n",
              "      border: none;\n",
              "      border-radius: 50%;\n",
              "      cursor: pointer;\n",
              "      display: none;\n",
              "      fill: #1967D2;\n",
              "      height: 32px;\n",
              "      padding: 0 0 0 0;\n",
              "      width: 32px;\n",
              "    }\n",
              "\n",
              "    .colab-df-convert:hover {\n",
              "      background-color: #E2EBFA;\n",
              "      box-shadow: 0px 1px 2px rgba(60, 64, 67, 0.3), 0px 1px 3px 1px rgba(60, 64, 67, 0.15);\n",
              "      fill: #174EA6;\n",
              "    }\n",
              "\n",
              "    [theme=dark] .colab-df-convert {\n",
              "      background-color: #3B4455;\n",
              "      fill: #D2E3FC;\n",
              "    }\n",
              "\n",
              "    [theme=dark] .colab-df-convert:hover {\n",
              "      background-color: #434B5C;\n",
              "      box-shadow: 0px 1px 3px 1px rgba(0, 0, 0, 0.15);\n",
              "      filter: drop-shadow(0px 1px 2px rgba(0, 0, 0, 0.3));\n",
              "      fill: #FFFFFF;\n",
              "    }\n",
              "  </style>\n",
              "\n",
              "      <script>\n",
              "        const buttonEl =\n",
              "          document.querySelector('#df-9f1fb39a-1b0b-4845-b38a-0a927193b6f7 button.colab-df-convert');\n",
              "        buttonEl.style.display =\n",
              "          google.colab.kernel.accessAllowed ? 'block' : 'none';\n",
              "\n",
              "        async function convertToInteractive(key) {\n",
              "          const element = document.querySelector('#df-9f1fb39a-1b0b-4845-b38a-0a927193b6f7');\n",
              "          const dataTable =\n",
              "            await google.colab.kernel.invokeFunction('convertToInteractive',\n",
              "                                                     [key], {});\n",
              "          if (!dataTable) return;\n",
              "\n",
              "          const docLinkHtml = 'Like what you see? Visit the ' +\n",
              "            '<a target=\"_blank\" href=https://colab.research.google.com/notebooks/data_table.ipynb>data table notebook</a>'\n",
              "            + ' to learn more about interactive tables.';\n",
              "          element.innerHTML = '';\n",
              "          dataTable['output_type'] = 'display_data';\n",
              "          await google.colab.output.renderOutput(dataTable, element);\n",
              "          const docLink = document.createElement('div');\n",
              "          docLink.innerHTML = docLinkHtml;\n",
              "          element.appendChild(docLink);\n",
              "        }\n",
              "      </script>\n",
              "    </div>\n",
              "  </div>\n",
              "  "
            ]
          },
          "metadata": {},
          "execution_count": 56
        }
      ]
    },
    {
      "cell_type": "markdown",
      "source": [
        "# **Model Building**"
      ],
      "metadata": {
        "id": "4rOv4vFgQxqS"
      }
    },
    {
      "cell_type": "code",
      "source": [
        "from sklearn.feature_extraction.text import CountVectorizer\n",
        "cv = CountVectorizer(max_features=500,stop_words='english')"
      ],
      "metadata": {
        "id": "76TS9o2JNNhe"
      },
      "execution_count": null,
      "outputs": []
    },
    {
      "cell_type": "code",
      "source": [
        "vector = cv.fit_transform(new['tags']).toarray()"
      ],
      "metadata": {
        "id": "QyNAS3-lNal7"
      },
      "execution_count": null,
      "outputs": []
    },
    {
      "cell_type": "code",
      "source": [
        "vector.shape"
      ],
      "metadata": {
        "colab": {
          "base_uri": "https://localhost:8080/"
        },
        "id": "D3yRE-JLNcsJ",
        "outputId": "24c8a4da-3405-4190-eced-427df6db75e2"
      },
      "execution_count": null,
      "outputs": [
        {
          "output_type": "execute_result",
          "data": {
            "text/plain": [
              "(216, 500)"
            ]
          },
          "metadata": {},
          "execution_count": 59
        }
      ]
    },
    {
      "cell_type": "code",
      "source": [
        "import nltk\n"
      ],
      "metadata": {
        "id": "1y3h7dWON5mM"
      },
      "execution_count": null,
      "outputs": []
    },
    {
      "cell_type": "code",
      "source": [
        "from nltk.stem.porter import PorterStemmer\n",
        "ps = PorterStemmer()"
      ],
      "metadata": {
        "id": "UUVGNmd2N8HP"
      },
      "execution_count": null,
      "outputs": []
    },
    {
      "cell_type": "code",
      "source": [
        "def stem(text):\n",
        "    y = []\n",
        "\n",
        "    for i in text.split():\n",
        "       y.append(ps.stem(i))\n",
        "\n",
        "\n",
        "    return \" \".join(y)"
      ],
      "metadata": {
        "id": "-4WNM5ZwN9rz"
      },
      "execution_count": null,
      "outputs": []
    },
    {
      "cell_type": "code",
      "source": [
        "new['tags'] = new['tags'].apply(stem)"
      ],
      "metadata": {
        "id": "49Dav5TjN_t0"
      },
      "execution_count": null,
      "outputs": []
    },
    {
      "cell_type": "code",
      "source": [
        "cv.get_feature_names_out()"
      ],
      "metadata": {
        "colab": {
          "base_uri": "https://localhost:8080/"
        },
        "id": "mKjAKSqGOB1Q",
        "outputId": "8ef0acda-3642-4344-a05b-c1b04e0f2ee3"
      },
      "execution_count": null,
      "outputs": [
        {
          "output_type": "execute_result",
          "data": {
            "text/plain": [
              "array(['10', '66', '666', '66666', 'abandoned', 'abilities', 'ability',\n",
              "       'able', 'accident', 'accidentally', 'action', 'actually',\n",
              "       'adventure', 'age', 'ago', 'ai', 'akito', 'anette', 'anime',\n",
              "       'anonymous', 'appeared', 'appears', 'art', 'arts', 'attack',\n",
              "       'attention', 'awakened', 'away', 'bad', 'battle', 'beautiful',\n",
              "       'beauty', 'begins', 'best', 'better', 'big', 'bit', 'black',\n",
              "       'blood', 'body', 'bom', 'born', 'boy', 'break', 'bring', 'broken',\n",
              "       'brother', 'building', 'called', 'came', 'castle', 'ce', 'chan',\n",
              "       'chance', 'change', 'changed', 'character', 'chat', 'chen',\n",
              "       'cheon', 'childhood', 'choice', 'chosen', 'city', 'class', 'clear',\n",
              "       'coffee', 'cold', 'come', 'comedy', 'comic', 'company',\n",
              "       'concubine', 'couldn', 'country', 'couple', 'course', 'crazy',\n",
              "       'creatures', 'cruel', 'cult', 'cultivation', 'curse', 'cute',\n",
              "       'cutting', 'daichi', 'dance', 'dao', 'dark', 'dating', 'daughter',\n",
              "       'day', 'days', 'dead', 'deal', 'death', 'decided', 'decides',\n",
              "       'dedicated', 'deep', 'defeat', 'demon', 'demonic', 'demons',\n",
              "       'destiny', 'determined', 'devil', 'did', 'die', 'died',\n",
              "       'different', 'disappeared', 'disciple', 'divorce', 'doctor',\n",
              "       'does', 'doesn', 'doing', 'don', 'drama', 'dream', 'dreams',\n",
              "       'duchy', 'duke', 'earth', 'emperor', 'empire', 'empress', 'end',\n",
              "       'ended', 'ending', 'endless', 'enemy', 'english', 'entertainment',\n",
              "       'evil', 'evolution', 'eyes', 'face', 'family', 'fans', 'fantasy',\n",
              "       'farming', 'father', 'favorite', 'fear', 'feelings', 'fell',\n",
              "       'female', 'feng', 'fight', 'filled', 'final', 'finally', 'finds',\n",
              "       'flower', 'forest', 'free', 'friend', 'friends', 'future', 'game',\n",
              "       'gave', 'gets', 'getting', 'girl', 'girls', 'given', 'god',\n",
              "       'goddess', 'gods', 'goes', 'going', 'good', 'got', 'great',\n",
              "       'group', 'han', 'handsome', 'happens', 'hard', 'harem', 'having',\n",
              "       'heart', 'heavenly', 'hell', 'help', 'hero', 'heroine', 'high',\n",
              "       'historical', 'history', 'hit', 'ho', 'hobby', 'home', 'horror',\n",
              "       'hot', 'house', 'housekeeper', 'human', 'humanity', 'humans',\n",
              "       'hunter', 'husband', 'hyeon', 'idol', 'ii', 'imagine', 'immortal',\n",
              "       'imperial', 'inside', 'instead', 'isekai', 'jin', 'job', 'josei',\n",
              "       'journey', 'just', 'kang', 'kidnapped', 'kill', 'kim', 'kind',\n",
              "       'king', 'kingdom', 'knight', 'know', 'known', 'komi', 'korea',\n",
              "       'kun', 'la', 'lady', 'laid', 'later', 'law', 'lead', 'leader',\n",
              "       'leads', 'lee', 'left', 'let', 'level', 'li', 'lian', 'life',\n",
              "       'like', 'lin', 'little', 'live', 'lived', 'lives', 'living',\n",
              "       'liàn', 'll', 'lonely', 'long', 'longer', 'looking', 'looks',\n",
              "       'lord', 'lost', 'lot', 'love', 'loves', 'lowly', 'luck', 'ma',\n",
              "       'mad', 'magazine', 'magician', 'main', 'make', 'makes', 'making',\n",
              "       'male', 'man', 'manga', 'manhua', 'manhwa', 'marriage', 'married',\n",
              "       'martial', 'master', 'meet', 'meets', 'men', 'met', 'middle',\n",
              "       'ming', 'mission', 'mo', 'modern', 'moment', 'money', 'monster',\n",
              "       'monsters', 'moon', 'mother', 'mountain', 'movie', 'murdered',\n",
              "       'murim', 'mysterious', 'mystery', 'new', 'night', 'noble',\n",
              "       'normal', 'novel', 'obsession', 'obtain', 'official', 'oh', 'old',\n",
              "       'ongoing', 'open', 'opened', 'opportunity', 'order', 'orders',\n",
              "       'ordinary', 'original', 'owner', 'palace', 'papa', 'parallel',\n",
              "       'past', 'peaceful', 'people', 'person', 'place', 'plan', 'planet',\n",
              "       'play', 'poor', 'popular', 'power', 'powerful', 'powers',\n",
              "       'president', 'pretty', 'prince', 'princess', 'problem', 'proposal',\n",
              "       'protagonist', 'protect', 'psychological', 'queen', 'read',\n",
              "       'reality', 'realizes', 'realm', 'reason', 'reborn', 'recover',\n",
              "       'red', 'reincarnated', 'relationship', 'return', 'returned',\n",
              "       'revenge', 'reward', 'right', 'romance', 'romantic', 'room',\n",
              "       'royal', 'ruined', 'rumors', 'run', 'sake', 'san', 'save',\n",
              "       'scandal', 'school', 'sealed', 'second', 'secret', 'secretary',\n",
              "       'sees', 'seinen', 'self', 'senior', 'seo', 'shadow', 'shadows',\n",
              "       'shoujo', 'shounen', 'sister', 'skeleton', 'skills', 'slice',\n",
              "       'smut', 'society', 'soldier', 'son', 'song', 'soon', 'soul',\n",
              "       'stalker', 'star', 'start', 'starts', 'story', 'strange', 'strong',\n",
              "       'stronger', 'strongest', 'student', 'students', 'studio',\n",
              "       'successful', 'suddenly', 'suitable', 'summary', 'summer',\n",
              "       'summoned', 'sun', 'super', 'supernatural', 'superstar',\n",
              "       'survival', 'survive', 'surviving', 'sweet', 'sword', 'takes',\n",
              "       'talent', 'talk', 'team', 'tell', 'tentacles', 'thing', 'things',\n",
              "       'thought', 'thousand', 'time', 'took', 'tragedy', 'transferred',\n",
              "       'transmigrated', 'trapped', 'trash', 'tries', 'troupe', 'true',\n",
              "       'truth', 'trying', 'turns', 'tutorial', 'tv', 'university',\n",
              "       'updating', 'use', 'useless', 'vampire', 'villain', 'villainess',\n",
              "       'wait', 'wakes', 'want', 'wanted', 'wants', 'war', 'warlock',\n",
              "       'way', 'website', 'webtoons', 'wedding', 'white', 'wife', 'wizard',\n",
              "       'wo', 'woke', 'woman', 'woo', 'work', 'working', 'works', 'world',\n",
              "       'worst', 'wrong', 'wu', 'wǒ', 'wǔ', 'xia', 'xiao', 'yaoi', 'ye',\n",
              "       'year', 'years', 'yeon', 'yi', 'yoon', 'young', 'younger', 'yu'],\n",
              "      dtype=object)"
            ]
          },
          "metadata": {},
          "execution_count": 64
        }
      ]
    },
    {
      "cell_type": "code",
      "source": [
        "from sklearn.metrics.pairwise import cosine_similarity"
      ],
      "metadata": {
        "id": "7HH7YmstOE6A"
      },
      "execution_count": null,
      "outputs": []
    },
    {
      "cell_type": "code",
      "source": [
        "similarity = cosine_similarity(vector)"
      ],
      "metadata": {
        "id": "6sC_oa6zOH9h"
      },
      "execution_count": null,
      "outputs": []
    },
    {
      "cell_type": "code",
      "source": [
        "similarity"
      ],
      "metadata": {
        "colab": {
          "base_uri": "https://localhost:8080/"
        },
        "id": "qwCxNY52OUWU",
        "outputId": "3ffcb40e-1e26-4ea5-935f-174ea237afcc"
      },
      "execution_count": null,
      "outputs": [
        {
          "output_type": "execute_result",
          "data": {
            "text/plain": [
              "array([[1.        , 0.14285714, 0.2567763 , ..., 0.1028689 , 0.02969569,\n",
              "        0.09639254],\n",
              "       [0.14285714, 1.        , 0.1711842 , ..., 0.3086067 , 0.17817416,\n",
              "        0.16868694],\n",
              "       [0.2567763 , 0.1711842 , 1.        , ..., 0.09245003, 0.05337605,\n",
              "        0.17325923],\n",
              "       ...,\n",
              "       [0.1028689 , 0.3086067 , 0.09245003, ..., 1.        , 0.25660012,\n",
              "        0.31234752],\n",
              "       [0.02969569, 0.17817416, 0.05337605, ..., 0.25660012, 1.        ,\n",
              "        0.39072351],\n",
              "       [0.09639254, 0.16868694, 0.17325923, ..., 0.31234752, 0.39072351,\n",
              "        1.        ]])"
            ]
          },
          "metadata": {},
          "execution_count": 67
        }
      ]
    },
    {
      "cell_type": "code",
      "source": [
        "new[new['title'] == 'Apex Future Martial Arts'].index[0]"
      ],
      "metadata": {
        "colab": {
          "base_uri": "https://localhost:8080/"
        },
        "id": "cYu-uwjAOYVM",
        "outputId": "7fc0f65a-9309-4128-c884-399e729c4119"
      },
      "execution_count": null,
      "outputs": [
        {
          "output_type": "execute_result",
          "data": {
            "text/plain": [
              "14"
            ]
          },
          "metadata": {},
          "execution_count": 69
        }
      ]
    },
    {
      "cell_type": "code",
      "source": [
        "def recommend_manga(manga):\n",
        "    index = new[new['title'] == manga].index[0]\n",
        "    distances = sorted(list(enumerate(similarity[index])),reverse=True,key = lambda x: x[1])\n",
        "    for i in distances[1:6]:\n",
        "        print(new.iloc[i[0]].title)\n"
      ],
      "metadata": {
        "id": "jM-qklLuOnwV"
      },
      "execution_count": null,
      "outputs": []
    },
    {
      "cell_type": "code",
      "source": [
        "recommend_manga('Apex Future Martial Arts')"
      ],
      "metadata": {
        "colab": {
          "base_uri": "https://localhost:8080/"
        },
        "id": "LXzamyomOsFp",
        "outputId": "ed9ee7e5-7ef5-41ae-ba67-8bcf92d38f5e"
      },
      "execution_count": null,
      "outputs": [
        {
          "output_type": "stream",
          "name": "stdout",
          "text": [
            "Reincarnated Into A Warlock 66,666 Years Later\n",
            "Gangho Apocalypse\n",
            "Martial Arts Alone\n",
            "The Dark Magician Transmigrates After 66666 Years\n",
            "I’m Trapped In This Day For One Thousand Years\n"
          ]
        }
      ]
    },
    {
      "cell_type": "markdown",
      "source": [
        "# **For data transfering**"
      ],
      "metadata": {
        "id": "WeAK_D6vRG5N"
      }
    },
    {
      "cell_type": "code",
      "source": [
        "import pickle"
      ],
      "metadata": {
        "id": "NUVWH0kRRHoq"
      },
      "execution_count": null,
      "outputs": []
    },
    {
      "cell_type": "code",
      "source": [
        "pickle.dump(new,open('manga_list.pkl','wb'))\n",
        "pickle.dump(similarity,open('similarity.pkl','wb'))"
      ],
      "metadata": {
        "id": "frX2Za30RJtU"
      },
      "execution_count": null,
      "outputs": []
    }
  ]
}